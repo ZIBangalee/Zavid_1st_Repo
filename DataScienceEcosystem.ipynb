{
 "cells": [
  {
   "cell_type": "markdown",
   "id": "d3fad8fd",
   "metadata": {},
   "source": [
    "# Data Science Tools and Ecosystem are summarized"
   ]
  },
  {
   "cell_type": "markdown",
   "id": "52d4b35a",
   "metadata": {},
   "source": [
    "## Introduction: Welcome to this Jupyter Notebook, where we will explore fundamental practical applications of Data Science using Python. "
   ]
  },
  {
   "cell_type": "markdown",
   "id": "876ae103",
   "metadata": {},
   "source": [
    "# Ordered list of Data Science Language: \n",
    "\n",
    "1. Python\n",
    "2. R\n",
    "3. SQL\n",
    "4. Java\n",
    "5. Scala\n",
    "6. Julia"
   ]
  },
  {
   "cell_type": "markdown",
   "id": "0772e39e",
   "metadata": {},
   "source": [
    "# In the field of Data Science, Python offers a powerful ecosystem of libraries that enable efficient data manipulation, analysis, and visualization. Below is a list of some foundational libraries widely used by data scientists:\n",
    "\n",
    "1. Pandas  \n",
    "2. NumPy  \n",
    "3. Matplotlib  \n",
    "4. Seaborn  \n",
    "5. Scikit-Learn  \n",
    "6. TensorFlow  \n",
    "7. Keras  \n",
    "8. PyTorch  "
   ]
  },
  {
   "cell_type": "markdown",
   "id": "9ea21a5c",
   "metadata": {},
   "source": [
    "# Data Science Tools:\n",
    "| Anaconda       |\n",
    "| Tableau        |\n",
    "| Apache Spark   |\n",
    "| TensorFlow     |\n",
    "| Hadoop         |\n",
    "| RapidMiner     |\n",
    "| KNIME          |\n",
    "| SAS            |\n",
    "| IBM Watson     |\n",
    "| Power BI       |"
   ]
  },
  {
   "cell_type": "markdown",
   "id": "53ae901a",
   "metadata": {},
   "source": [
    "### Arithmetic expression: \n",
    "3*(2+7)"
   ]
  },
  {
   "cell_type": "code",
   "execution_count": 1,
   "id": "dd61a345",
   "metadata": {},
   "outputs": [
    {
     "data": {
      "text/plain": [
       "17"
      ]
     },
     "execution_count": 1,
     "metadata": {},
     "output_type": "execute_result"
    }
   ],
   "source": [
    "(3*4)+5"
   ]
  },
  {
   "cell_type": "code",
   "execution_count": 3,
   "id": "6b400d18",
   "metadata": {},
   "outputs": [
    {
     "name": "stdout",
     "output_type": "stream",
     "text": [
      "540\n"
     ]
    }
   ],
   "source": [
    "hr=60\n",
    "mins=hr*9\n",
    "print(mins)"
   ]
  },
  {
   "cell_type": "markdown",
   "id": "09a86b9b",
   "metadata": {},
   "source": [
    "# Objectives of Jupyter Notebook\n",
    "- Documentation and annotation\n",
    "- Integration with various data science libraries\n",
    "- Reproducible research\n",
    "- Interactive coding\n",
    "- Code sharing and collaboration\n",
    "- Data analysis and visualization\n",
    "- Educational tool for learning and teaching"
   ]
  },
  {
   "cell_type": "markdown",
   "id": "04062e81",
   "metadata": {},
   "source": [
    "## Author: Md Zavid Iqbal Bangalee"
   ]
  },
  {
   "cell_type": "code",
   "execution_count": null,
   "id": "6d8a2d5e",
   "metadata": {},
   "outputs": [],
   "source": []
  }
 ],
 "metadata": {
  "kernelspec": {
   "display_name": "Python 3 (ipykernel)",
   "language": "python",
   "name": "python3"
  },
  "language_info": {
   "codemirror_mode": {
    "name": "ipython",
    "version": 3
   },
   "file_extension": ".py",
   "mimetype": "text/x-python",
   "name": "python",
   "nbconvert_exporter": "python",
   "pygments_lexer": "ipython3",
   "version": "3.11.5"
  }
 },
 "nbformat": 4,
 "nbformat_minor": 5
}
